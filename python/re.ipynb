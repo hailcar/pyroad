{
 "cells": [
  {
   "cell_type": "code",
   "execution_count": 1,
   "metadata": {},
   "outputs": [],
   "source": [
    "import re\n"
   ]
  },
  {
   "cell_type": "markdown",
   "metadata": {},
   "source": [
    "Finding Patterns in Text\n",
    "-------------------------"
   ]
  },
  {
   "cell_type": "code",
   "execution_count": 5,
   "metadata": {},
   "outputs": [
    {
     "name": "stdout",
     "output_type": "stream",
     "text": [
      "this | Does this text match the pattern | 5 | 9 | this\n"
     ]
    }
   ],
   "source": [
    "pattern = 'this'\n",
    "text = 'Does this text match the pattern'\n",
    "\n",
    "match = re.search(pattern, text)\n",
    "s = match.start()\n",
    "e = match.end()\n",
    "print(\"{} | {} | {} | {} | {}\".format(match.re.pattern, match.string,s,e,text[s:e]))"
   ]
  },
  {
   "cell_type": "markdown",
   "metadata": {},
   "source": [
    "Compiling Expressions\n",
    "----------------------"
   ]
  },
  {
   "cell_type": "code",
   "execution_count": 7,
   "metadata": {},
   "outputs": [
    {
     "name": "stdout",
     "output_type": "stream",
     "text": [
      "Text: Does this text match the pattern? \n",
      "\n",
      "Seeking this -> match!\n",
      "Seeking that -> Not match~\n"
     ]
    }
   ],
   "source": [
    "\n",
    "regexes = [\n",
    "    re.compile(p)\n",
    "    for p in ['this','that']\n",
    "]\n",
    "text = 'Does this text match the pattern?'\n",
    "print(\"Text: {} \\n\".format(text))\n",
    "for regex in regexes:\n",
    "    print('Seeking {} ->'.format(regex.pattern),end=' ')\n",
    "    if regex.search(text):\n",
    "        print('match!')\n",
    "    else:\n",
    "        print('Not match~')"
   ]
  },
  {
   "cell_type": "markdown",
   "metadata": {},
   "source": [
    "Multiple Matches\n",
    "--------------------"
   ]
  },
  {
   "cell_type": "code",
   "execution_count": 9,
   "metadata": {},
   "outputs": [
    {
     "name": "stdout",
     "output_type": "stream",
     "text": [
      "Found ab\n",
      "Found ab\n"
     ]
    }
   ],
   "source": [
    "text = 'abbaaabbbbaaaaaaaa'\n",
    "pattern = 'ab'\n",
    "for match in re.findall(pattern, text):\n",
    "    print('Found {}'.format(match))"
   ]
  },
  {
   "cell_type": "code",
   "execution_count": 19,
   "metadata": {},
   "outputs": [
    {
     "name": "stdout",
     "output_type": "stream",
     "text": [
      "Fount ab at 0:2\n",
      "Fount ab at 6:8\n",
      "Fount ab at 10:12\n"
     ]
    }
   ],
   "source": [
    "text = 'abbaaaabbaab'\n",
    "pattern = 'ab'\n",
    "for match in re.finditer(pattern, text):\n",
    "    s = match.start()\n",
    "    e = match.end()\n",
    "    print('Fount {} at {}:{}'.format(text[s:e],s,e))"
   ]
  },
  {
   "cell_type": "markdown",
   "metadata": {},
   "source": [
    "Pattern Syntax\n",
    "---------------"
   ]
  },
  {
   "cell_type": "code",
   "execution_count": 20,
   "metadata": {},
   "outputs": [
    {
     "name": "stdout",
     "output_type": "stream",
     "text": [
      "'ab'('a' followed by 'b')\n",
      "  'abbaaabbbbaaaaa'\n",
      "  'ab'\n",
      "  .....'ab'\n",
      "\n"
     ]
    }
   ],
   "source": [
    "def test_patterns(text, patterns):\n",
    "    for pattern, desc in patterns:\n",
    "        print(\"'{}'({})\".format(pattern, desc))\n",
    "        print(\"  '{}'\".format(text))\n",
    "        for match in re.finditer(pattern, text):\n",
    "            s = match.start()\n",
    "            e = match.end()\n",
    "            substr = text[s:e]\n",
    "            n_backslashed = text[:s].count('\\\\')\n",
    "            prefix = '.'*(s+n_backslashed)\n",
    "            print(\"  {}'{}'\".format(prefix, substr))\n",
    "        print()\n",
    "    return\n",
    "test_patterns('abbaaabbbbaaaaa',[('ab',\"'a' followed by 'b'\")])"
   ]
  },
  {
   "cell_type": "code",
   "execution_count": 22,
   "metadata": {},
   "outputs": [
    {
     "data": {
      "text/plain": [
       "2"
      ]
     },
     "execution_count": 22,
     "metadata": {},
     "output_type": "execute_result"
    }
   ],
   "source": [
    "\"aasdf\".count('a')"
   ]
  },
  {
   "cell_type": "code",
   "execution_count": null,
   "metadata": {},
   "outputs": [],
   "source": []
  }
 ],
 "metadata": {
  "kernelspec": {
   "display_name": "Python 3",
   "language": "python",
   "name": "python3"
  },
  "language_info": {
   "codemirror_mode": {
    "name": "ipython",
    "version": 3
   },
   "file_extension": ".py",
   "mimetype": "text/x-python",
   "name": "python",
   "nbconvert_exporter": "python",
   "pygments_lexer": "ipython3",
   "version": "3.8.5"
  }
 },
 "nbformat": 4,
 "nbformat_minor": 4
}
