{
 "cells": [
  {
   "cell_type": "code",
   "execution_count": 1,
   "metadata": {},
   "outputs": [],
   "source": [
    "import textwrap\n",
    "import time\n"
   ]
  },
  {
   "cell_type": "code",
   "execution_count": 7,
   "metadata": {},
   "outputs": [
    {
     "name": "stdout",
     "output_type": "stream",
     "text": [
      "adjustable:     : False\n",
      "implementation  : clock_gettime(CLOCK_MONOTONIC)\n",
      "monotonic       : True\n",
      "resolution      : 1e-09\n",
      "current         : 2786475.994147478\n",
      "\n",
      "adjustable:     : False\n",
      "implementation  : clock_gettime(CLOCK_MONOTONIC)\n",
      "monotonic       : True\n",
      "resolution      : 1e-09\n",
      "current         : 2786475.994418463\n",
      "\n",
      "adjustable:     : False\n",
      "implementation  : clock_gettime(CLOCK_PROCESS_CPUTIME_ID)\n",
      "monotonic       : True\n",
      "resolution      : 1e-09\n",
      "current         : 3.121646973\n",
      "\n",
      "adjustable:     : True\n",
      "implementation  : clock_gettime(CLOCK_REALTIME)\n",
      "monotonic       : False\n",
      "resolution      : 1e-09\n",
      "current         : 1611672463.6254818\n",
      "\n"
     ]
    }
   ],
   "source": [
    "available_clocks = [\n",
    "    \n",
    "    ('monotonic', time.monotonic),\n",
    "    ('perf_counter',time.perf_counter),\n",
    "    ('process_time',time.process_time),\n",
    "    ('time',time.time)\n",
    "]\n",
    "for clock_name, func in available_clocks:\n",
    "    print(textwrap.dedent('''\\\n",
    "            adjustable:     : {info.adjustable}\n",
    "            implementation  : {info.implementation}\n",
    "            monotonic       : {info.monotonic}\n",
    "            resolution      : {info.resolution}\n",
    "            current         : {current}\n",
    "    ''').format(\n",
    "        info=time.get_clock_info(clock_name),\n",
    "        current=func()\n",
    "    ))"
   ]
  },
  {
   "cell_type": "markdown",
   "metadata": {},
   "source": [
    "Wall Clock Time \n",
    "----------------"
   ]
  },
  {
   "cell_type": "code",
   "execution_count": 9,
   "metadata": {},
   "outputs": [
    {
     "name": "stdout",
     "output_type": "stream",
     "text": [
      "The time is :  1611672551.4491866\n"
     ]
    }
   ],
   "source": [
    "print(\"The time is : \", time.time())"
   ]
  },
  {
   "cell_type": "code",
   "execution_count": 10,
   "metadata": {},
   "outputs": [
    {
     "data": {
      "text/plain": [
       "'Tue Jan 26 22:49:57 2021'"
      ]
     },
     "execution_count": 10,
     "metadata": {},
     "output_type": "execute_result"
    }
   ],
   "source": [
    "time.ctime()"
   ]
  },
  {
   "cell_type": "code",
   "execution_count": 19,
   "metadata": {},
   "outputs": [
    {
     "name": "stdout",
     "output_type": "stream",
     "text": [
      "The time is  Tue Jan 26 22:56:40 2021\n",
      "15 secs from now :  Tue Jan 26 22:56:55 2021\n"
     ]
    }
   ],
   "source": [
    "print('The time is ', time.ctime())\n",
    "later=time.time()+15\n",
    "print('15 secs from now : ', time.ctime(later))"
   ]
  },
  {
   "cell_type": "markdown",
   "metadata": {},
   "source": [
    "Monotonic Clockcs\n",
    "-----------------"
   ]
  },
  {
   "cell_type": "code",
   "execution_count": 21,
   "metadata": {},
   "outputs": [
    {
     "name": "stdout",
     "output_type": "stream",
     "text": [
      "start : 2787184.42\n",
      "end   : 2787186.42\n",
      "span  :      2.00\n"
     ]
    }
   ],
   "source": [
    "start = time.monotonic()\n",
    "time.sleep(2)\n",
    "end = time.monotonic()\n",
    "print('start : {:>9.2f}'.format(start))\n",
    "print('end   : {:>9.2f}'.format(end))\n",
    "print('span  : {:>9.2f}'.format(end-start))"
   ]
  },
  {
   "cell_type": "markdown",
   "metadata": {},
   "source": [
    "Processor Clock Time\n",
    "--------------------"
   ]
  },
  {
   "cell_type": "code",
   "execution_count": 27,
   "metadata": {},
   "outputs": [
    {
     "name": "stdout",
     "output_type": "stream",
     "text": [
      "Tue Jan 26 23:07:45 2021 : 1611673665.330 3.814\n",
      "Tue Jan 26 23:07:45 2021 : 1611673665.388 3.874\n",
      "Tue Jan 26 23:07:45 2021 : 1611673665.445 3.931\n",
      "Tue Jan 26 23:07:45 2021 : 1611673665.501 3.988\n",
      "Tue Jan 26 23:07:45 2021 : 1611673665.558 4.044\n"
     ]
    }
   ],
   "source": [
    "time.process_time()\n",
    "import hashlib\n",
    "import time\n",
    "\n",
    "data=\"asdfasdf\".encode(encoding=\"utf-8\")\n",
    "\n",
    "for i in range(5):\n",
    "    h=hashlib.sha1()\n",
    "    print(time.ctime(), ': {:0.3f} {:0.3f}'.format(\n",
    "    time.time(), time.process_time()))\n",
    "    for i in range(300000):\n",
    "        h.update(data)\n",
    "    cksum=h.digest()"
   ]
  },
  {
   "cell_type": "markdown",
   "metadata": {},
   "source": [
    "Time Components\n",
    "---------------"
   ]
  },
  {
   "cell_type": "code",
   "execution_count": 36,
   "metadata": {},
   "outputs": [
    {
     "name": "stdout",
     "output_type": "stream",
     "text": [
      "2021 1 26 16 54 1 26 0 "
     ]
    }
   ],
   "source": [
    "s=time.gmtime()\n",
    "print(\n",
    "s.tm_year,\n",
    "s.tm_mon,\n",
    "    s.tm_mday,\n",
    "    s.tm_hour,\n",
    "    s.tm_sec,\n",
    "    s.tm_wday,\n",
    "    s.tm_yday,\n",
    "    s.tm_isdst,\n",
    "    end=\" \"\n",
    ")"
   ]
  },
  {
   "cell_type": "code",
   "execution_count": 50,
   "metadata": {},
   "outputs": [
    {
     "data": {
      "text/plain": [
       "8.0"
      ]
     },
     "execution_count": 50,
     "metadata": {},
     "output_type": "execute_result"
    }
   ],
   "source": [
    "h=[time.mktime(i) for i in (time.localtime(),time.gmtime())]\n",
    "f=h[0]-h[1]\n",
    "f/3600"
   ]
  },
  {
   "cell_type": "markdown",
   "metadata": {},
   "source": [
    "Working With Time Zones\n",
    "-------------------------"
   ]
  },
  {
   "cell_type": "code",
   "execution_count": 57,
   "metadata": {},
   "outputs": [
    {
     "data": {
      "text/plain": [
       "'not set'"
      ]
     },
     "execution_count": 57,
     "metadata": {},
     "output_type": "execute_result"
    }
   ],
   "source": [
    "import time \n",
    "import os \n",
    "os.environ.get('TZ','not set')"
   ]
  },
  {
   "cell_type": "code",
   "execution_count": null,
   "metadata": {},
   "outputs": [],
   "source": []
  }
 ],
 "metadata": {
  "kernelspec": {
   "display_name": "Python 3",
   "language": "python",
   "name": "python3"
  },
  "language_info": {
   "codemirror_mode": {
    "name": "ipython",
    "version": 3
   },
   "file_extension": ".py",
   "mimetype": "text/x-python",
   "name": "python",
   "nbconvert_exporter": "python",
   "pygments_lexer": "ipython3",
   "version": "3.8.5"
  }
 },
 "nbformat": 4,
 "nbformat_minor": 4
}
